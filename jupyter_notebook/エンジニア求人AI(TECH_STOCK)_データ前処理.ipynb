{
  "cells": [
    {
      "cell_type": "markdown",
      "metadata": {
        "id": "view-in-github",
        "colab_type": "text"
      },
      "source": [
        "<a href=\"https://colab.research.google.com/github/ARAN1218/EngineerOffers_AI/blob/main/jupyter_notebook/%E3%82%A8%E3%83%B3%E3%82%B8%E3%83%8B%E3%82%A2%E6%B1%82%E4%BA%BAAI(TECH_STOCK)_%E3%83%87%E3%83%BC%E3%82%BF%E5%89%8D%E5%87%A6%E7%90%86.ipynb\" target=\"_parent\"><img src=\"https://colab.research.google.com/assets/colab-badge.svg\" alt=\"Open In Colab\"/></a>"
      ]
    },
    {
      "cell_type": "code",
      "execution_count": null,
      "id": "911679c7",
      "metadata": {
        "id": "911679c7"
      },
      "outputs": [],
      "source": [
        "import numpy as np\n",
        "import pandas as pd\n",
        "from pprint import pprint\n",
        "pd.set_option('display.max_rows', None)\n",
        "\n",
        "df = pd.read_pickle('Engineer_Agent_Bigdata.pickle')"
      ]
    },
    {
      "cell_type": "code",
      "execution_count": null,
      "id": "70b42fa9",
      "metadata": {
        "id": "70b42fa9"
      },
      "outputs": [],
      "source": [
        "df.head(10)"
      ]
    },
    {
      "cell_type": "code",
      "execution_count": null,
      "id": "538a7fde",
      "metadata": {
        "id": "538a7fde"
      },
      "outputs": [],
      "source": [
        "for column in df.columns:\n",
        "    display(df[column].value_counts())"
      ]
    },
    {
      "cell_type": "markdown",
      "id": "7a7f6f95",
      "metadata": {
        "id": "7a7f6f95"
      },
      "source": [
        "## ページ"
      ]
    },
    {
      "cell_type": "code",
      "execution_count": null,
      "id": "db36e486",
      "metadata": {
        "id": "db36e486"
      },
      "outputs": [],
      "source": [
        "df_page = df.copy()\n",
        "df_page['ページ']"
      ]
    },
    {
      "cell_type": "code",
      "execution_count": null,
      "id": "eea96ff7",
      "metadata": {
        "id": "eea96ff7"
      },
      "outputs": [],
      "source": [
        "#ページはいらないので削ぎ落とし一択\n",
        "del df_page['ページ']\n",
        "df_page.head(1)"
      ]
    },
    {
      "cell_type": "code",
      "execution_count": null,
      "id": "ed542ea6",
      "metadata": {
        "id": "ed542ea6"
      },
      "outputs": [],
      "source": [
        "def page_preprocessing(df_page):\n",
        "    del df_page['ページ']\n",
        "    \n",
        "    print('page preprocessed!')"
      ]
    },
    {
      "cell_type": "code",
      "execution_count": null,
      "id": "ce368ceb",
      "metadata": {
        "id": "ce368ceb"
      },
      "outputs": [],
      "source": [
        "#test\n",
        "df_page = df.copy()\n",
        "page_preprocessing(df_page)\n",
        "df_page.head(1)"
      ]
    },
    {
      "cell_type": "markdown",
      "id": "8d1a1368",
      "metadata": {
        "id": "8d1a1368"
      },
      "source": [
        "## タイトル"
      ]
    },
    {
      "cell_type": "code",
      "execution_count": null,
      "id": "2807093d",
      "metadata": {
        "id": "2807093d"
      },
      "outputs": [],
      "source": [
        "df_title = df.copy()\n",
        "df_title['タイトル']"
      ]
    },
    {
      "cell_type": "code",
      "execution_count": null,
      "id": "63f40cd6",
      "metadata": {
        "id": "63f40cd6"
      },
      "outputs": [],
      "source": [
        "#とりあえずタグを除去してみる\n",
        "df_title['タイトル'] = df_title['タイトル'].str.translate(str.maketrans({'\\n':''}))\n",
        "df_title['タイトル']"
      ]
    },
    {
      "cell_type": "code",
      "execution_count": null,
      "id": "24994aa0",
      "metadata": {
        "id": "24994aa0"
      },
      "outputs": [],
      "source": [
        "pprint(df_title['タイトル'].value_counts())\n",
        "# 使わない"
      ]
    },
    {
      "cell_type": "code",
      "execution_count": null,
      "id": "789922b1",
      "metadata": {
        "id": "789922b1"
      },
      "outputs": [],
      "source": [
        "def title_preprocessing(df_title):\n",
        "    del df_title['タイトル']\n",
        "    print(\"title preprocessed!\")"
      ]
    },
    {
      "cell_type": "markdown",
      "id": "678d68c2",
      "metadata": {
        "id": "678d68c2"
      },
      "source": [
        "## 月額報酬"
      ]
    },
    {
      "cell_type": "code",
      "execution_count": null,
      "id": "db9a89d1",
      "metadata": {
        "id": "db9a89d1"
      },
      "outputs": [],
      "source": [
        "df_reward = df.copy()\n",
        "df_reward['月額報酬'].value_counts()"
      ]
    },
    {
      "cell_type": "code",
      "execution_count": null,
      "id": "c5c02ea2",
      "metadata": {
        "id": "c5c02ea2"
      },
      "outputs": [],
      "source": [
        "#00~00の形だけ残す\n",
        "df_reward['月額報酬'] = df_reward['月額報酬'].str.translate(str.maketrans({'\\n':'', '万':'', '円':'', '(':'', ')':'', '税':'', '別':''}))\n",
        "df_reward['月額報酬']"
      ]
    },
    {
      "cell_type": "code",
      "execution_count": null,
      "id": "1ff98a08",
      "metadata": {
        "id": "1ff98a08"
      },
      "outputs": [],
      "source": [
        "#足して2で割る\n",
        "df_reward['月額報酬'] = df_reward['月額報酬'].map(lambda x : (int(x.split('～')[0])+int(x.split('～')[1]))/2 if ('～' in x) else int(x))\n",
        "df_reward['月額報酬']"
      ]
    },
    {
      "cell_type": "code",
      "execution_count": null,
      "id": "fdc7c004",
      "metadata": {
        "id": "fdc7c004"
      },
      "outputs": [],
      "source": [
        "def reward_preprocessing(df_reward):\n",
        "    #00~00の形だけ残す\n",
        "    df_reward['月額報酬'] = df_reward['月額報酬'].str.translate(str.maketrans({'\\n':'', '万':'', '円':'', '(':'', ')':'', '税':'', '別':''}))\n",
        "\n",
        "    #足して2で割る\n",
        "    df_reward['月額報酬'] = df_reward['月額報酬'].map(lambda x : (int(x.split('～')[0])+int(x.split('～')[1]))/2 if ('～' in x) else int(x))\n",
        "\n",
        "    print('reward preprocessed!')"
      ]
    },
    {
      "cell_type": "code",
      "execution_count": null,
      "id": "bda8b66d",
      "metadata": {
        "id": "bda8b66d"
      },
      "outputs": [],
      "source": [
        "#test\n",
        "df_reward = df.copy()\n",
        "reward_preprocessing(df_reward)\n",
        "df_reward['月額報酬'].value_counts()"
      ]
    },
    {
      "cell_type": "markdown",
      "id": "abe69cf5",
      "metadata": {
        "id": "abe69cf5"
      },
      "source": [
        "## 勤務地"
      ]
    },
    {
      "cell_type": "code",
      "execution_count": null,
      "id": "bd8489dc",
      "metadata": {
        "id": "bd8489dc"
      },
      "outputs": [],
      "source": [
        "df_office = df.copy()\n",
        "df_office['勤務地'].unique()\n",
        "#鍵は「/」"
      ]
    },
    {
      "cell_type": "code",
      "execution_count": null,
      "id": "116761d4",
      "metadata": {
        "id": "116761d4"
      },
      "outputs": [],
      "source": [
        "#タグ等を除去する\n",
        "df_office['勤務地'] = df_office['勤務地'].str.translate(str.maketrans({'\\n':''\n",
        "                                                                 , ' ':''\n",
        "                                                                 , '\\u3000':''\n",
        "                                                                 ,'・':''\n",
        "                                                                 #,'':''\n",
        "                                                                 , '│':'/'\n",
        "                                                                 , '／':'/'\n",
        "                                                                 ,'+':'/'\n",
        "                                                                 ,'＋':'/'\n",
        "                                                                 ,'※':'/'\n",
        "                                                                 ,'(':'/'\n",
        "                                                                 ,'（':'/'\n",
        "                                                                }))\n",
        "df_office['勤務地'].unique()"
      ]
    },
    {
      "cell_type": "code",
      "execution_count": null,
      "id": "ac1f59ba",
      "metadata": {
        "id": "ac1f59ba"
      },
      "outputs": [],
      "source": [
        "#「/」で区切って、左の要素を取得する。\n",
        "df_office['勤務地'] = df_office['勤務地'].map(lambda x : x.split('/')[0] if ('/' in x) else x)\n",
        "df_office['勤務地'].unique()"
      ]
    },
    {
      "cell_type": "code",
      "execution_count": null,
      "id": "49aa96a2",
      "metadata": {
        "id": "49aa96a2"
      },
      "outputs": [],
      "source": [
        "#地名からリモートを消去し、リモートを表す言葉を「リモート」で統一したい\n",
        "eraces = [\n",
        "    'フルリモート'\n",
        "    ,'現状リモート勤務'\n",
        "    ,'、リモート勤務'\n",
        "    ,'基本リモート'\n",
        "    ,'原則リモート'\n",
        "    ,'リモート勤務'\n",
        "    ,'一部リモート'\n",
        "    ,'、リモート'\n",
        "    ,'テレワーク'\n",
        "    ,'orリモート'\n",
        "    ,'リモート、'\n",
        "    ,'リモート'\n",
        "]\n",
        "\n",
        "for erace in eraces:\n",
        "    df_office['勤務地'] = df_office['勤務地'].str.replace(erace, '')\n",
        "df_office['勤務地'][df_office['勤務地']==''] = 'リモート'\n",
        "df_office['勤務地'].unique()"
      ]
    },
    {
      "cell_type": "code",
      "execution_count": null,
      "id": "214cdc67",
      "metadata": {
        "id": "214cdc67"
      },
      "outputs": [],
      "source": [
        "#ラベルエンコーディング\n",
        "from sklearn.preprocessing import LabelEncoder\n",
        "\n",
        "LE_office = LabelEncoder()\n",
        "LE_office.fit(df_office['勤務地'])\n",
        "df_office['勤務地'] = LE_office.transform(df_office['勤務地'])\n",
        "df_office['勤務地'].unique()"
      ]
    },
    {
      "cell_type": "code",
      "execution_count": null,
      "id": "c11a1c09",
      "metadata": {
        "id": "c11a1c09"
      },
      "outputs": [],
      "source": [
        "def office_preprocessing(df_office):\n",
        "    #タグ等を除去する\n",
        "    df_office['勤務地'] = df_office['勤務地'].str.translate(str.maketrans({'\\n':''\n",
        "                                                                     , ' ':''\n",
        "                                                                     , '\\u3000':''\n",
        "                                                                     ,'・':''\n",
        "                                                                     #,'':''\n",
        "                                                                     , '│':'/'\n",
        "                                                                     , '／':'/'\n",
        "                                                                     ,'+':'/'\n",
        "                                                                     ,'＋':'/'\n",
        "                                                                     ,'※':'/'\n",
        "                                                                     ,'(':'/'\n",
        "                                                                     ,'（':'/'\n",
        "                                                                    }))\n",
        "    \n",
        "    #「/」で区切って、左の要素を取得する。\n",
        "    df_office['勤務地'] = df_office['勤務地'].map(lambda x : x.split('/')[0] if ('/' in x) else x)\n",
        "\n",
        "    #地名からリモートを消去し、リモートを表す言葉を「リモート」で統一したい\n",
        "    eraces = [\n",
        "        'フルリモート'\n",
        "        ,'現状リモート勤務'\n",
        "        ,'、リモート勤務'\n",
        "        ,'基本リモート'\n",
        "        ,'原則リモート'\n",
        "        ,'リモート勤務'\n",
        "        ,'一部リモート'\n",
        "        ,'、リモート'\n",
        "        ,'テレワーク'\n",
        "        ,'orリモート'\n",
        "        ,'リモート、'\n",
        "        ,'リモート'\n",
        "    ]\n",
        "\n",
        "    for erace in eraces:\n",
        "        df_office['勤務地'] = df_office['勤務地'].str.replace(erace, '')\n",
        "    df_office['勤務地'][df_office['勤務地']==''] = 'リモート'\n",
        "    \n",
        "    #ラベルエンコーディング\n",
        "    from sklearn.preprocessing import LabelEncoder\n",
        "\n",
        "    global LE_office\n",
        "    LE_office = LabelEncoder()\n",
        "    LE_office.fit(df_office['勤務地'])\n",
        "    df_office['勤務地'] = LE_office.transform(df_office['勤務地'])\n",
        "    \n",
        "    print('office preprocessed!')"
      ]
    },
    {
      "cell_type": "code",
      "execution_count": null,
      "id": "600a062d",
      "metadata": {
        "id": "600a062d"
      },
      "outputs": [],
      "source": [
        "#test\n",
        "df_office = df.copy()\n",
        "office_preprocessing(df_office)\n",
        "print(LE_office.classes_)\n",
        "df_office['勤務地'].unique()"
      ]
    },
    {
      "cell_type": "markdown",
      "id": "fa3bc276",
      "metadata": {
        "id": "fa3bc276"
      },
      "source": [
        "## 勤務期間"
      ]
    },
    {
      "cell_type": "code",
      "execution_count": null,
      "id": "c0830bda",
      "metadata": {
        "id": "c0830bda"
      },
      "outputs": [],
      "source": [
        "df_span = df.copy()\n",
        "df_span['勤務期間'].value_counts()\n",
        "#延長フラグ作る...?\n",
        "#後 - 前　で期間の長さ計算しよかな\n",
        "#長期 = 999\n",
        "#即日 = 0(8月1日)"
      ]
    },
    {
      "cell_type": "code",
      "execution_count": null,
      "id": "1e81a6e0",
      "metadata": {
        "id": "1e81a6e0"
      },
      "outputs": [],
      "source": [
        "#延長カラムを作っていく\n",
        "#「延長」「更新」という単語が含まれている行は1、それ以外は0にする\n",
        "df_span['延長'] = df_span['勤務期間'].map(lambda x : 1 if (('延長' in x) or ('更新' in x)) else 0)\n",
        "df_span.head(10)"
      ]
    },
    {
      "cell_type": "code",
      "execution_count": null,
      "id": "bde5ce65",
      "metadata": {
        "id": "bde5ce65"
      },
      "outputs": [],
      "source": [
        "# 即日を2021年7月長期を2024年7月(=3年)と定義し、変換する\n",
        "df_span['勤務期間'] = df_span['勤務期間'].str.replace('即日', '2021年7月')\n",
        "df_span['勤務期間'] = df_span['勤務期間'].str.replace('長期', '2024年7月')"
      ]
    },
    {
      "cell_type": "code",
      "execution_count": null,
      "id": "d58742dd",
      "metadata": {
        "id": "d58742dd"
      },
      "outputs": [],
      "source": [
        "#不要な文字を削除する。\n",
        "df_span['勤務期間'] = df_span['勤務期間'].str.translate(str.maketrans({'\\n':''\n",
        "                                                               , ' ':''\n",
        "                                                               ,'月':'時'\n",
        "                                                               ,'中':''\n",
        "                                                               , '(':'|'\n",
        "                                                               ,'~':'～'\n",
        "                                                              }))\n",
        "df_span['勤務期間'].unique()"
      ]
    },
    {
      "cell_type": "code",
      "execution_count": null,
      "id": "713aec2f",
      "metadata": {
        "id": "713aec2f"
      },
      "outputs": [],
      "source": [
        "#「|」の左側だけ切り取る\n",
        "df_span['勤務期間'] = df_span['勤務期間'].map(lambda x : x.split('|')[0] if ('|' in x) else x)\n",
        "df_span['勤務期間'].unique()"
      ]
    },
    {
      "cell_type": "code",
      "execution_count": null,
      "id": "cdc6cc32",
      "metadata": {
        "id": "cdc6cc32"
      },
      "outputs": [],
      "source": [
        "#「～」で分けて、両方の要素を加工して足した値を特徴量とする。\n",
        "\n",
        "df_span['1'] = df_span['勤務期間'].map(lambda x : x.split('～')[0] if ('～' in x) else x)\n",
        "df_span['2'] = df_span['勤務期間'].map(lambda x : x.split('～')[1] if ('～' in x) else 0)\n",
        "df_span['1'].unique()"
      ]
    },
    {
      "cell_type": "code",
      "execution_count": null,
      "id": "86f20d48",
      "metadata": {
        "id": "86f20d48"
      },
      "outputs": [],
      "source": [
        "#「時」の左側だけ切り取る\n",
        "df_span['1'] = df_span['1'].map(lambda x : x.split('時')[0] if ('時' in str(x)) else x)\n",
        "df_span['2'] = df_span['2'].map(lambda x : x.split('時')[0] if ('時' in str(x)) else x)\n",
        "df_span['1'].unique()"
      ]
    },
    {
      "cell_type": "code",
      "execution_count": null,
      "id": "063e56cd",
      "metadata": {
        "id": "063e56cd"
      },
      "outputs": [],
      "source": [
        "# 悔しいけど個別に対応していく\n",
        "# 不明な文字列は2022年9月に変換\n",
        "# 数値はstrにして2021年と足す\n",
        "df_span['1'][df_span['1'] == '8'] = '2021年8'\n",
        "df_span['1'][df_span['1'] == '2021/9/1'] = '2021年9'\n",
        "df_span['2'][df_span['2'] == '2021/9/30'] = '2021年9'\n",
        "df_span['2'] = df_span['2'].apply(lambda x : '2021年'+str(x) if x in ['7', '8', '9', '10', '11', '12'] else x)\n",
        "df_span['2'] = df_span['2'].apply(lambda x : '2022年7' if x in ['', '終了', '1年想定', '確認', 0] else x)"
      ]
    },
    {
      "cell_type": "code",
      "execution_count": null,
      "id": "c0672628",
      "metadata": {
        "scrolled": false,
        "id": "c0672628"
      },
      "outputs": [],
      "source": [
        "display(df_span['1'].value_counts())\n",
        "display(df_span['2'].value_counts())"
      ]
    },
    {
      "cell_type": "code",
      "execution_count": null,
      "id": "93bc4836",
      "metadata": {
        "id": "93bc4836"
      },
      "outputs": [],
      "source": [
        "# datetime型にして月単位で差をとる\n",
        "from datetime import datetime\n",
        "for i in range(len(df_span)):\n",
        "    df_span['勤務期間'][i] = ((datetime.strptime(df_span['2'][i], '%Y年%m') - datetime.strptime(df_span['1'][i], '%Y年%m')).days + 1) // 30\n",
        "\n",
        "df_span['勤務期間']"
      ]
    },
    {
      "cell_type": "code",
      "execution_count": null,
      "id": "e54a5af0",
      "metadata": {
        "id": "e54a5af0"
      },
      "outputs": [],
      "source": [
        "df_span[['勤務期間', '1', '2']]"
      ]
    },
    {
      "cell_type": "code",
      "execution_count": null,
      "id": "48eae3e6",
      "metadata": {
        "id": "48eae3e6"
      },
      "outputs": [],
      "source": [
        "df_span.dtypes"
      ]
    },
    {
      "cell_type": "code",
      "execution_count": null,
      "id": "a0f4f3e5",
      "metadata": {
        "id": "a0f4f3e5"
      },
      "outputs": [],
      "source": [
        "def span_preprocessing(df_span):\n",
        "    #延長カラムを作っていく\n",
        "    #「延長」「更新」という単語が含まれている行は1、それ以外は0にする\n",
        "    df_span['延長'] = df_span['勤務期間'].map(lambda x : 1 if (('延長' in x) or ('更新' in x)) else 0)\n",
        "    \n",
        "    # 即日を2021年7月長期を2024年7月(=3年)と定義し、変換する\n",
        "    df_span['勤務期間'] = df_span['勤務期間'].str.replace('即日', '2021年7月')\n",
        "    df_span['勤務期間'] = df_span['勤務期間'].str.replace('長期', '2024年7月')\n",
        "    \n",
        "    #不要な文字を削除する。\n",
        "    df_span['勤務期間'] = df_span['勤務期間'].str.translate(str.maketrans({'\\n':''\n",
        "                                                                   , ' ':''\n",
        "                                                                   ,'月':'時'\n",
        "                                                                   ,'中':''\n",
        "                                                                   , '(':'|'\n",
        "                                                                   ,'~':'～'\n",
        "                                                                  }))\n",
        "    \n",
        "    #「|」の左側だけ切り取る\n",
        "    df_span['勤務期間'] = df_span['勤務期間'].map(lambda x : x.split('|')[0] if ('|' in x) else x)\n",
        "    \n",
        "    #「～」で分ける。\n",
        "    df_span['1'] = df_span['勤務期間'].map(lambda x : x.split('～')[0] if ('～' in x) else x)\n",
        "    df_span['2'] = df_span['勤務期間'].map(lambda x : x.split('～')[1] if ('～' in x) else 0)\n",
        "    \n",
        "    #「時」の左側だけ切り取る\n",
        "    df_span['1'] = df_span['1'].map(lambda x : x.split('時')[0] if ('時' in str(x)) else x)\n",
        "    df_span['2'] = df_span['2'].map(lambda x : x.split('時')[0] if ('時' in str(x)) else x)\n",
        "    \n",
        "    # 不明な文字列は2022年9月に変換\n",
        "    # 数値はstrにして2021年と足す\n",
        "    df_span['1'][df_span['1'] == '8'] = '2021年8'\n",
        "    df_span['1'][df_span['1'] == '2021/9/1'] = '2021年9'\n",
        "    df_span['2'][df_span['2'] == '2021/9/30'] = '2021年9'\n",
        "    df_span['2'] = df_span['2'].apply(lambda x : '2021年'+str(x) if x in ['7', '8', '9', '10', '11', '12'] else x)\n",
        "    df_span['2'] = df_span['2'].apply(lambda x : '2022年7' if x in ['', '終了', '1年想定', '確認', 0] else x)\n",
        "    \n",
        "    # datetime型にして月単位で差をとる\n",
        "    from datetime import datetime\n",
        "    for i in range(len(df_span)):\n",
        "        df_span['勤務期間'][i] = ((datetime.strptime(df_span['2'][i], '%Y年%m') - datetime.strptime(df_span['1'][i], '%Y年%m')).days + 1) // 30\n",
        "        \n",
        "    del df_span['1']\n",
        "    del df_span['2']\n",
        "\n",
        "    print(\"span preprocessed!\")\n"
      ]
    },
    {
      "cell_type": "code",
      "execution_count": null,
      "id": "4124dd4c",
      "metadata": {
        "id": "4124dd4c"
      },
      "outputs": [],
      "source": [
        "# テスト\n",
        "df_span = df.copy()\n",
        "span_preprocessing(df_span)\n",
        "df_span"
      ]
    },
    {
      "cell_type": "markdown",
      "id": "79b80288",
      "metadata": {
        "id": "79b80288"
      },
      "source": [
        "## 稼働率"
      ]
    },
    {
      "cell_type": "code",
      "execution_count": null,
      "id": "80fee8bf",
      "metadata": {
        "id": "80fee8bf"
      },
      "outputs": [],
      "source": [
        "df_per = df.copy()\n",
        "df_per['稼働率'].value_counts()"
      ]
    },
    {
      "cell_type": "code",
      "execution_count": null,
      "id": "5300601c",
      "metadata": {
        "id": "5300601c"
      },
      "outputs": [],
      "source": [
        "#余計な文字列を取り除く\n",
        "df_per['稼働率'] = df_per['稼働率'].str.translate(str.maketrans({'\\n':'', ' ':'', '%':''}))\n",
        "df_per['稼働率'].value_counts()"
      ]
    },
    {
      "cell_type": "code",
      "execution_count": null,
      "id": "f315b34c",
      "metadata": {
        "id": "f315b34c"
      },
      "outputs": [],
      "source": [
        "#「～」で分割する\n",
        "df_per['1'] = df_per['稼働率'].map(lambda x : int(x.split('～')[0]) if ('～' in x) else int(x))\n",
        "df_per['2'] = df_per['稼働率'].map(lambda x : int(x.split('～')[1]) if ('～' in x) else int(x))\n",
        "\n",
        "display(df_per['1'].value_counts())\n",
        "display(df_per['2'].value_counts())"
      ]
    },
    {
      "cell_type": "code",
      "execution_count": null,
      "id": "f4b12156",
      "metadata": {
        "id": "f4b12156"
      },
      "outputs": [],
      "source": [
        "#1と2の平均値を特徴量とする\n",
        "df_per['稼働率'] = (df_per['1'] + df_per['2']) / 2\n",
        "df_per['稼働率'].value_counts()"
      ]
    },
    {
      "cell_type": "code",
      "execution_count": null,
      "id": "0cb1efb7",
      "metadata": {
        "id": "0cb1efb7"
      },
      "outputs": [],
      "source": [
        "def per_preprocessing(df_per):\n",
        "    #余計な文字列を取り除く\n",
        "    df_per['稼働率'] = df_per['稼働率'].str.translate(str.maketrans({'\\n':'', ' ':'', '%':''}))\n",
        "\n",
        "    #「～」で分割する\n",
        "    df_per['1'] = df_per['稼働率'].map(lambda x : int(x.split('～')[0]) if ('～' in x) else int(x))\n",
        "    df_per['2'] = df_per['稼働率'].map(lambda x : int(x.split('～')[1]) if ('～' in x) else int(x))\n",
        "\n",
        "    #1と2の平均値を特徴量とする\n",
        "    df_per['稼働率'] = (df_per['1'] + df_per['2']) / 2\n",
        "    \n",
        "    del df_per['1']\n",
        "    del df_per['2']\n",
        "    \n",
        "    print('per preprocessed!')"
      ]
    },
    {
      "cell_type": "code",
      "execution_count": null,
      "id": "befc659b",
      "metadata": {
        "id": "befc659b"
      },
      "outputs": [],
      "source": [
        "#test\n",
        "df_per = df.copy()\n",
        "per_preprocessing(df_per)\n",
        "df_per['稼働率'].value_counts()"
      ]
    },
    {
      "cell_type": "markdown",
      "id": "bd674c63",
      "metadata": {
        "id": "bd674c63"
      },
      "source": [
        "## 業務内容"
      ]
    },
    {
      "cell_type": "code",
      "execution_count": null,
      "id": "cc92ec61",
      "metadata": {
        "id": "cc92ec61"
      },
      "outputs": [],
      "source": [
        "df_task = df.copy()\n",
        "df_task['業務内容']\n",
        "# もしかしたら使わないかもしれない"
      ]
    },
    {
      "cell_type": "code",
      "execution_count": null,
      "id": "333e9824",
      "metadata": {
        "id": "333e9824"
      },
      "outputs": [],
      "source": [
        "def task_preprocessing(df_task):\n",
        "    del df_task['業務内容']\n",
        "    \n",
        "    print(\"task preprocessed!\")\n"
      ]
    },
    {
      "cell_type": "markdown",
      "id": "3a679953",
      "metadata": {
        "id": "3a679953"
      },
      "source": [
        "## スキル"
      ]
    },
    {
      "cell_type": "code",
      "execution_count": null,
      "id": "aee85b83",
      "metadata": {
        "id": "aee85b83"
      },
      "outputs": [],
      "source": [
        "df_skill = df.copy()\n",
        "df_skill['スキル']"
      ]
    },
    {
      "cell_type": "code",
      "execution_count": null,
      "id": "0839fd7b",
      "metadata": {
        "id": "0839fd7b"
      },
      "outputs": [],
      "source": [
        "# 要らなそうな文字を消してみる\n",
        "df_skill['スキル'] = df_skill['スキル'].str.translate(str.maketrans({'\\n':'', ' ':''}))\n",
        "df_skill['スキル'] = df_skill['スキル'].str.replace('【必須スキル】', '')\n",
        "df_skill['スキル']"
      ]
    },
    {
      "cell_type": "code",
      "execution_count": null,
      "id": "2288ec41",
      "metadata": {
        "id": "2288ec41"
      },
      "outputs": [],
      "source": [
        "df_skill['スキル'].value_counts()"
      ]
    },
    {
      "cell_type": "code",
      "execution_count": null,
      "id": "c450ba37",
      "metadata": {
        "id": "c450ba37"
      },
      "outputs": [],
      "source": [
        "def skill_preprocessing(df_skill):\n",
        "    del df_skill['スキル']\n",
        "    \n",
        "    print(\"skill preprocessed!\")"
      ]
    },
    {
      "cell_type": "markdown",
      "id": "4931f8ee",
      "metadata": {
        "id": "4931f8ee"
      },
      "source": [
        "## 業種"
      ]
    },
    {
      "cell_type": "code",
      "execution_count": null,
      "id": "71a391fe",
      "metadata": {
        "id": "71a391fe"
      },
      "outputs": [],
      "source": [
        "df_type = df.copy()\n",
        "df_type['業種']"
      ]
    },
    {
      "cell_type": "code",
      "execution_count": null,
      "id": "32cfd7de",
      "metadata": {
        "id": "32cfd7de"
      },
      "outputs": [],
      "source": [
        "df_type['業種'] = df_type['業種'].str.translate(str.maketrans({'\\n':'', ' ':''}))\n",
        "df_type['業種'].unique()"
      ]
    },
    {
      "cell_type": "code",
      "execution_count": null,
      "id": "81a78b18",
      "metadata": {
        "id": "81a78b18"
      },
      "outputs": [],
      "source": [
        "#ラベルエンコーディング\n",
        "from sklearn.preprocessing import LabelEncoder\n",
        "\n",
        "LE_type = LabelEncoder()\n",
        "LE_type.fit(df_type['業種'])\n",
        "df_type['業種'] = LE_type.transform(df_type['業種'])\n",
        "df_type['業種'].unique()"
      ]
    },
    {
      "cell_type": "code",
      "execution_count": null,
      "id": "8c3a8b2e",
      "metadata": {
        "id": "8c3a8b2e"
      },
      "outputs": [],
      "source": [
        "def type_preprocessing(df_type):\n",
        "    df_type['業種'] = df_type['業種'].str.translate(str.maketrans({'\\n':'', ' ':''}))\n",
        "    \n",
        "    #ラベルエンコーディング\n",
        "    from sklearn.preprocessing import LabelEncoder\n",
        "\n",
        "    LE_type = LabelEncoder()\n",
        "    LE_type.fit(df_type['業種'])\n",
        "    df_type['業種'] = LE_type.transform(df_type['業種'])\n",
        "    \n",
        "    print('type preprocessed!')"
      ]
    },
    {
      "cell_type": "code",
      "execution_count": null,
      "id": "a9c7127c",
      "metadata": {
        "id": "a9c7127c"
      },
      "outputs": [],
      "source": [
        "# テスト\n",
        "df_type = df.copy()\n",
        "type_preprocessing(df_type)\n",
        "df_type['業種']"
      ]
    },
    {
      "cell_type": "markdown",
      "id": "0693099e",
      "metadata": {
        "id": "0693099e"
      },
      "source": [
        "## リモート"
      ]
    },
    {
      "cell_type": "code",
      "execution_count": null,
      "id": "25fcb08c",
      "metadata": {
        "id": "25fcb08c"
      },
      "outputs": [],
      "source": [
        "df_remote = df.copy()\n",
        "df_remote['リモート']"
      ]
    },
    {
      "cell_type": "code",
      "execution_count": null,
      "id": "48acb460",
      "metadata": {
        "id": "48acb460"
      },
      "outputs": [],
      "source": [
        "df_remote['リモート'] = df_remote['リモート'].str.translate(str.maketrans({'\\n':'', ' ':''}))\n",
        "df_remote['リモート'].unique()"
      ]
    },
    {
      "cell_type": "code",
      "execution_count": null,
      "id": "fa98baf6",
      "metadata": {
        "id": "fa98baf6"
      },
      "outputs": [],
      "source": [
        "# ''のデータはリモートなしとして扱う\n",
        "df_remote['リモート'][df_remote['リモート'] == ''] = 'なし（常駐）'\n",
        "df_remote['リモート'].unique()"
      ]
    },
    {
      "cell_type": "code",
      "execution_count": null,
      "id": "8a94db23",
      "metadata": {
        "id": "8a94db23"
      },
      "outputs": [],
      "source": [
        "#ラベルエンコーディング\n",
        "from sklearn.preprocessing import LabelEncoder\n",
        "\n",
        "LE_remote = LabelEncoder()\n",
        "LE_remote.fit(df_remote['リモート'])\n",
        "df_remote['リモート'] = LE_remote.transform(df_remote['リモート'])\n",
        "df_remote['リモート'].unique()"
      ]
    },
    {
      "cell_type": "code",
      "execution_count": null,
      "id": "a210d542",
      "metadata": {
        "id": "a210d542"
      },
      "outputs": [],
      "source": [
        "def remote_preprocessing(df_remote):\n",
        "    df_remote['リモート'] = df_remote['リモート'].str.translate(str.maketrans({'\\n':'', ' ':''}))\n",
        "    df_remote['リモート'][df_remote['リモート'] == ''] = 'なし（常駐）'\n",
        "    \n",
        "    #ラベルエンコーディング\n",
        "    from sklearn.preprocessing import LabelEncoder\n",
        "\n",
        "    LE_remote = LabelEncoder()\n",
        "    LE_remote.fit(df_remote['リモート'])\n",
        "    df_remote['リモート'] = LE_remote.transform(df_remote['リモート'])\n",
        "    df_remote['リモート'].unique()\n",
        "    \n",
        "    print(\"remote preprocessed!\")\n"
      ]
    },
    {
      "cell_type": "code",
      "execution_count": null,
      "id": "f4ddcef4",
      "metadata": {
        "id": "f4ddcef4"
      },
      "outputs": [],
      "source": [
        "# テスト\n",
        "df_remote = df.copy()\n",
        "remote_preprocessing(df_remote)\n",
        "df_remote['リモート'].unique()"
      ]
    },
    {
      "cell_type": "markdown",
      "id": "25bd594b",
      "metadata": {
        "id": "25bd594b"
      },
      "source": [
        "## 募集職種"
      ]
    },
    {
      "cell_type": "code",
      "execution_count": null,
      "id": "2bbee78d",
      "metadata": {
        "id": "2bbee78d"
      },
      "outputs": [],
      "source": [
        "df_job = df.copy()\n",
        "df_job['募集職種']"
      ]
    },
    {
      "cell_type": "code",
      "execution_count": null,
      "id": "907989aa",
      "metadata": {
        "id": "907989aa"
      },
      "outputs": [],
      "source": [
        "pd.get_dummies(df_job['業種'])"
      ]
    },
    {
      "cell_type": "code",
      "execution_count": null,
      "id": "8130b744",
      "metadata": {
        "id": "8130b744"
      },
      "outputs": [],
      "source": [
        "df_job['募集職種'] = df_job['募集職種'].str.translate(str.maketrans({'\\n':'', ' ':''}))\n",
        "df_job['募集職種'].unique()"
      ]
    },
    {
      "cell_type": "code",
      "execution_count": null,
      "id": "1555d6b0",
      "metadata": {
        "id": "1555d6b0"
      },
      "outputs": [],
      "source": [
        "df_job['募集職種'][df_job['募集職種'].isin(['UNIX・C/C++エンジニア'])]"
      ]
    },
    {
      "cell_type": "code",
      "execution_count": null,
      "id": "3113fc63",
      "metadata": {
        "id": "3113fc63"
      },
      "outputs": [],
      "source": [
        "# ダミー変数化\n",
        "jobs = [\n",
        "    'その他オフィスワーク',\n",
        "    'システムエンジニア・プログラマー',\n",
        "    'インフラ・ネットワークエンジニア',\n",
        "    'ネットワークエンジニア',\n",
        "    'コンサル・PM・PMO',\n",
        "    'テスター・デバッカー',\n",
        "    'フロントエンドエンジニア',\n",
        "    'バックエンドエンジニア',\n",
        "    'デザイナー・クリエイター',\n",
        "    'Java系エンジニア',\n",
        "    '業務系エンジニア',\n",
        "    'サーバエンジニア',\n",
        "    '運用/監視担当',\n",
        "    '企画・マーケティング',\n",
        "    'データサイエンティスト',\n",
        "    'DBA(データベース)管理者',\n",
        "    'ヘルプデスク',\n",
        "    'スマホアプリ開発',\n",
        "    'ソーシャル系エンジニア',\n",
        "    '制御・組み込み系エンジニア',\n",
        "    'ゲームプログラマー/ゲームクリエイター',\n",
        "    'アナリスト',\n",
        "    'カスタマーサポート',\n",
        "    'Webディレクター',\n",
        "    'SAP系(ABAP・BASIS)エンジニア',\n",
        "    'Windows系エンジニア',\n",
        "    'LAMP系エンジニア'\n",
        "]\n",
        "\n",
        "for job in jobs:\n",
        "    df_job[job] = df_job['募集職種'].map(lambda x : 1 if job in x else 0)\n",
        "    df_job['募集職種'] = df_job['募集職種'].str.replace(job, '')\n",
        "    \n",
        "df_job['募集職種'].value_counts()"
      ]
    },
    {
      "cell_type": "code",
      "execution_count": null,
      "id": "116fc8a9",
      "metadata": {
        "id": "116fc8a9"
      },
      "outputs": [],
      "source": [
        "def job_preprocessing(df_job):\n",
        "    df_job['募集職種'] = df_job['募集職種'].str.translate(str.maketrans({'\\n':'', ' ':''}))\n",
        "    \n",
        "    # ダミー変数化\n",
        "    jobs = [\n",
        "        'その他オフィスワーク',\n",
        "        'システムエンジニア・プログラマー',\n",
        "        'インフラ・ネットワークエンジニア',\n",
        "        'ネットワークエンジニア',\n",
        "        'コンサル・PM・PMO',\n",
        "        'テスター・デバッカー',\n",
        "        'フロントエンドエンジニア',\n",
        "        'バックエンドエンジニア',\n",
        "        'デザイナー・クリエイター',\n",
        "        'Java系エンジニア',\n",
        "        '業務系エンジニア',\n",
        "        'サーバエンジニア',\n",
        "        '運用/監視担当',\n",
        "        '企画・マーケティング',\n",
        "        'データサイエンティスト',\n",
        "        'DBA(データベース)管理者',\n",
        "        'ヘルプデスク',\n",
        "        'スマホアプリ開発',\n",
        "        'ソーシャル系エンジニア',\n",
        "        '制御・組み込み系エンジニア',\n",
        "        'ゲームプログラマー/ゲームクリエイター',\n",
        "        'アナリスト',\n",
        "        'カスタマーサポート',\n",
        "        'Webディレクター',\n",
        "        'SAP系(ABAP・BASIS)エンジニア',\n",
        "        'Windows系エンジニア',\n",
        "        'LAMP系エンジニア'\n",
        "    ]\n",
        "\n",
        "    for job in jobs:\n",
        "        df_job[job] = df_job['募集職種'].map(lambda x : 1 if job in x else 0)\n",
        "        df_job['募集職種'] = df_job['募集職種'].str.replace(job, '')\n",
        "        \n",
        "    del df_job['募集職種']\n",
        "        \n",
        "    print(\"job preprocessed!\")\n"
      ]
    },
    {
      "cell_type": "code",
      "execution_count": null,
      "id": "56558660",
      "metadata": {
        "id": "56558660"
      },
      "outputs": [],
      "source": [
        "# テスト\n",
        "df_job = df.copy()\n",
        "job_preprocessing(df_job)\n",
        "df_job.head(10)"
      ]
    },
    {
      "cell_type": "code",
      "execution_count": null,
      "id": "b59c25e6",
      "metadata": {
        "id": "b59c25e6"
      },
      "outputs": [],
      "source": [
        "df_job.sum()"
      ]
    },
    {
      "cell_type": "markdown",
      "id": "b046f3c5",
      "metadata": {
        "id": "b046f3c5"
      },
      "source": [
        "## ポジション"
      ]
    },
    {
      "cell_type": "code",
      "execution_count": null,
      "id": "26356675",
      "metadata": {
        "id": "26356675"
      },
      "outputs": [],
      "source": [
        "df_position = df.copy()\n",
        "df_position['ポジション']"
      ]
    },
    {
      "cell_type": "code",
      "execution_count": null,
      "id": "27564c42",
      "metadata": {
        "id": "27564c42"
      },
      "outputs": [],
      "source": [
        "df_position['ポジション'] = df_position['ポジション'].str.translate(str.maketrans({'\\n':'', ' ':''}))\n",
        "df_position['ポジション'].unique()"
      ]
    },
    {
      "cell_type": "code",
      "execution_count": null,
      "id": "8482980b",
      "metadata": {
        "id": "8482980b"
      },
      "outputs": [],
      "source": [
        "# ''のデータはメンバーに置き換える\n",
        "df_position['ポジション'][df_position['ポジション'] == ''] = 'メンバー'"
      ]
    },
    {
      "cell_type": "code",
      "execution_count": null,
      "id": "baf8e985",
      "metadata": {
        "id": "baf8e985"
      },
      "outputs": [],
      "source": [
        "# メンバーとサブメンバーの数も十分だったので、上書きする方式でフラグカラム作る\n",
        "# メンバー:1、サブリーダー:1、リーダー:2\n",
        "df_position['ポジション'] = df_position['ポジション'].str.replace('サブリーダー', 'サブリーダ')\n",
        "df_position['ポジション'] = df_position['ポジション'].apply(lambda x : 2 if ('リーダー' in x) else 1 if 'サブリーダ' in x else 0)\n",
        "df_position['ポジション']"
      ]
    },
    {
      "cell_type": "code",
      "execution_count": null,
      "id": "a463ee3d",
      "metadata": {
        "id": "a463ee3d"
      },
      "outputs": [],
      "source": [
        "def position_preprocessing(df_position):\n",
        "    df_position['ポジション'] = df_position['ポジション'].str.translate(str.maketrans({'\\n':'', ' ':''}))\n",
        "    \n",
        "    # メンバー:1、サブリーダー:1、リーダー:2\n",
        "    df_position['ポジション'] = df_position['ポジション'].str.replace('サブリーダー', 'サブリーダ')\n",
        "    df_position['ポジション'] = df_position['ポジション'].apply(lambda x : 2 if ('リーダー' in x) else 1 if 'サブリーダ' in x else 0)\n",
        "    \n",
        "    print(\"position preprocessed!\")\n"
      ]
    },
    {
      "cell_type": "code",
      "execution_count": null,
      "id": "287ec365",
      "metadata": {
        "id": "287ec365"
      },
      "outputs": [],
      "source": [
        "# テスト\n",
        "df_position = df.copy()\n",
        "position_preprocessing(df_position)\n",
        "df_position['ポジション'].unique()"
      ]
    },
    {
      "cell_type": "markdown",
      "id": "ee91831e",
      "metadata": {
        "id": "ee91831e"
      },
      "source": [
        "## 募集人数"
      ]
    },
    {
      "cell_type": "code",
      "execution_count": null,
      "id": "5a4f40f6",
      "metadata": {
        "id": "5a4f40f6"
      },
      "outputs": [],
      "source": [
        "df_people = df.copy()\n",
        "df_people['募集人数']\n",
        "# NaNって何だよ"
      ]
    },
    {
      "cell_type": "code",
      "execution_count": null,
      "id": "ba96495b",
      "metadata": {
        "id": "ba96495b"
      },
      "outputs": [],
      "source": [
        "df_people['募集人数'] = df_people['募集人数'].str.translate(str.maketrans({'\\n':'', ' ':'', '名':''}))\n",
        "df_people['募集人数']"
      ]
    },
    {
      "cell_type": "code",
      "execution_count": null,
      "id": "853889bf",
      "metadata": {
        "id": "853889bf"
      },
      "outputs": [],
      "source": [
        "# NaNは1に置き換える\n",
        "df_people['募集人数'] = df_people['募集人数'].fillna(1)\n",
        "df_people['募集人数'].value_counts()"
      ]
    },
    {
      "cell_type": "code",
      "execution_count": null,
      "id": "5750c121",
      "metadata": {
        "id": "5750c121"
      },
      "outputs": [],
      "source": [
        "df_people['募集人数'] = df_people['募集人数'].astype(int)\n",
        "df_people['募集人数']"
      ]
    },
    {
      "cell_type": "code",
      "execution_count": null,
      "id": "ce5d09e5",
      "metadata": {
        "id": "ce5d09e5"
      },
      "outputs": [],
      "source": [
        "def people_preprocessing(df_people):\n",
        "    df_people['募集人数'] = df_people['募集人数'].str.translate(str.maketrans({'\\n':'', ' ':'', '名':''}))\n",
        "    \n",
        "    # NaNは1に置き換える\n",
        "    df_people['募集人数'] = df_people['募集人数'].fillna(1)\n",
        "    df_people['募集人数'] = df_people['募集人数'].astype(int)\n",
        "    \n",
        "    print(\"people preprocessed!\")\n"
      ]
    },
    {
      "cell_type": "code",
      "execution_count": null,
      "id": "768363b0",
      "metadata": {
        "id": "768363b0"
      },
      "outputs": [],
      "source": [
        "# テスト\n",
        "df_people = df.copy()\n",
        "people_preprocessing(df_people)\n",
        "df_people['募集人数']"
      ]
    },
    {
      "cell_type": "markdown",
      "id": "f7113f77",
      "metadata": {
        "id": "f7113f77"
      },
      "source": [
        "## 勤務時間"
      ]
    },
    {
      "cell_type": "code",
      "execution_count": null,
      "id": "5146ffb0",
      "metadata": {
        "id": "5146ffb0"
      },
      "outputs": [],
      "source": [
        "df_time = df.copy()\n",
        "df_time['勤務時間']"
      ]
    },
    {
      "cell_type": "code",
      "execution_count": null,
      "id": "ff857ec1",
      "metadata": {
        "id": "ff857ec1"
      },
      "outputs": [],
      "source": [
        "df_time['勤務時間'] = df_time['勤務時間'].str.translate(str.maketrans({'\\n':'', ' ':''}))\n",
        "df_time['勤務時間']"
      ]
    },
    {
      "cell_type": "code",
      "execution_count": null,
      "id": "0e822d43",
      "metadata": {
        "id": "0e822d43"
      },
      "outputs": [],
      "source": [
        "df_time['勤務時間'].value_counts()\n",
        "# 全体の5分の1もデータが取れてないので、使わないかも"
      ]
    },
    {
      "cell_type": "code",
      "execution_count": null,
      "id": "fecf7b45",
      "metadata": {
        "id": "fecf7b45"
      },
      "outputs": [],
      "source": [
        "def time_preprocessing(df_time):\n",
        "    del df_time['勤務時間']\n",
        "    \n",
        "    print(\"time preprocessed!\")"
      ]
    },
    {
      "cell_type": "markdown",
      "id": "8c612377",
      "metadata": {
        "id": "8c612377"
      },
      "source": [
        "## 服装"
      ]
    },
    {
      "cell_type": "code",
      "execution_count": null,
      "id": "b0a7853d",
      "metadata": {
        "id": "b0a7853d"
      },
      "outputs": [],
      "source": [
        "df_fashion = df.copy()\n",
        "df_fashion.服装"
      ]
    },
    {
      "cell_type": "code",
      "execution_count": null,
      "id": "6cba611b",
      "metadata": {
        "id": "6cba611b"
      },
      "outputs": [],
      "source": [
        "df_fashion.服装 = df_fashion.服装.str.translate(str.maketrans({'\\n':'', ' ':''}))\n",
        "df_fashion.服装.value_counts()"
      ]
    },
    {
      "cell_type": "code",
      "execution_count": null,
      "id": "5131323d",
      "metadata": {
        "id": "5131323d"
      },
      "outputs": [],
      "source": [
        "# NaNはビジネスカジュアルとする\n",
        "df_fashion.服装 = df_fashion.服装.fillna('ビジネスカジュアル')\n",
        "df_fashion.服装.value_counts()"
      ]
    },
    {
      "cell_type": "code",
      "execution_count": null,
      "id": "b28659a9",
      "metadata": {
        "id": "b28659a9"
      },
      "outputs": [],
      "source": [
        "# スーツネクタイ着用=0, ビジネスカジュアル=1, 私服可=2\n",
        "df_fashion.服装[df_fashion['服装'] == 'スーツネクタイ着用'] = 0\n",
        "df_fashion.服装[df_fashion['服装'] == 'ビジネスカジュアル'] = 1\n",
        "df_fashion.服装[df_fashion['服装'] == '私服可'] = 2\n",
        "df_fashion.服装.value_counts()"
      ]
    },
    {
      "cell_type": "code",
      "execution_count": null,
      "id": "9f6c68c0",
      "metadata": {
        "id": "9f6c68c0"
      },
      "outputs": [],
      "source": [
        "def fashion_preprocessing(df_fashion):\n",
        "    df_fashion.服装 = df_fashion.服装.str.translate(str.maketrans({'\\n':'', ' ':''}))\n",
        "    \n",
        "    # NaNはビジネスカジュアルとする\n",
        "    df_fashion.服装 = df_fashion.服装.fillna('ビジネスカジュアル')\n",
        "    \n",
        "    # スーツネクタイ着用=0, ビジネスカジュアル=1, 私服可=2\n",
        "    df_fashion.服装[df_fashion['服装'] == 'スーツネクタイ着用'] = 0\n",
        "    df_fashion.服装[df_fashion['服装'] == 'ビジネスカジュアル'] = 1\n",
        "    df_fashion.服装[df_fashion['服装'] == '私服可'] = 2\n",
        "    \n",
        "    print(\"fashion preprocessed!\")\n"
      ]
    },
    {
      "cell_type": "code",
      "execution_count": null,
      "id": "a270b698",
      "metadata": {
        "id": "a270b698"
      },
      "outputs": [],
      "source": [
        "# テスト\n",
        "df_fashion = df.copy()\n",
        "fashion_preprocessing(df_fashion)\n",
        "df_fashion.服装.value_counts()"
      ]
    },
    {
      "cell_type": "markdown",
      "id": "fe692349",
      "metadata": {
        "id": "fe692349"
      },
      "source": [
        "## 契約形態"
      ]
    },
    {
      "cell_type": "code",
      "execution_count": null,
      "id": "a1d605c3",
      "metadata": {
        "id": "a1d605c3"
      },
      "outputs": [],
      "source": [
        "df_contract = df.copy()\n",
        "df_contract.契約形態"
      ]
    },
    {
      "cell_type": "code",
      "execution_count": null,
      "id": "9b9f5070",
      "metadata": {
        "id": "9b9f5070"
      },
      "outputs": [],
      "source": [
        "df_contract.契約形態 = df_contract.契約形態.str.translate(str.maketrans({'\\n':'', ' ':''}))\n",
        "df_contract.契約形態.value_counts()"
      ]
    },
    {
      "cell_type": "code",
      "execution_count": null,
      "id": "704bcb5a",
      "metadata": {
        "id": "704bcb5a"
      },
      "outputs": [],
      "source": [
        "# 紹介予定派遣を派遣に組み込む\n",
        "df_contract.契約形態[df_contract['契約形態'] == '紹介予定派遣'] = '派遣'\n",
        "df_contract.契約形態.value_counts()"
      ]
    },
    {
      "cell_type": "code",
      "execution_count": null,
      "id": "55197b76",
      "metadata": {
        "id": "55197b76"
      },
      "outputs": [],
      "source": [
        "# 業務委託=0, 派遣=1, 契約社員=2\n",
        "df_contract.契約形態[df_contract['契約形態'] == '業務委託'] = 0\n",
        "df_contract.契約形態[df_contract['契約形態'] == '派遣'] = 1\n",
        "df_contract.契約形態[df_contract['契約形態'] == '契約社員'] = 2\n",
        "df_contract.契約形態.value_counts()"
      ]
    },
    {
      "cell_type": "code",
      "execution_count": null,
      "id": "04009ae6",
      "metadata": {
        "id": "04009ae6"
      },
      "outputs": [],
      "source": [
        "def contract_preprocessing(df_contract):\n",
        "    df_contract.契約形態 = df_contract.契約形態.str.translate(str.maketrans({'\\n':'', ' ':''}))\n",
        "    \n",
        "    # 紹介予定派遣を派遣に組み込む\n",
        "    df_contract.契約形態[df_contract['契約形態'] == '紹介予定派遣'] = '派遣'\n",
        "    \n",
        "    # 業務委託=0, 派遣=1, 契約社員=2\n",
        "    df_contract.契約形態[df_contract['契約形態'] == '業務委託'] = 0\n",
        "    df_contract.契約形態[df_contract['契約形態'] == '派遣'] = 1\n",
        "    df_contract.契約形態[df_contract['契約形態'] == '契約社員'] = 2\n",
        "    \n",
        "    print(\"contract preprocessed!\")\n"
      ]
    },
    {
      "cell_type": "code",
      "execution_count": null,
      "id": "0b7df37a",
      "metadata": {
        "id": "0b7df37a"
      },
      "outputs": [],
      "source": [
        "# テスト\n",
        "df_contract = df.copy()\n",
        "contract_preprocessing(df_contract)\n",
        "df_contract.契約形態.value_counts()"
      ]
    },
    {
      "cell_type": "markdown",
      "id": "325a8fc5",
      "metadata": {
        "id": "325a8fc5"
      },
      "source": [
        "## 備考"
      ]
    },
    {
      "cell_type": "code",
      "execution_count": null,
      "id": "696140d8",
      "metadata": {
        "id": "696140d8"
      },
      "outputs": [],
      "source": [
        "df_sub = df.copy()\n",
        "df_sub.備考\n",
        "# 説明変数には使えなそう"
      ]
    },
    {
      "cell_type": "code",
      "execution_count": null,
      "id": "0e5a0b2f",
      "metadata": {
        "id": "0e5a0b2f"
      },
      "outputs": [],
      "source": [
        "def sub_preprocessing(df_sub):\n",
        "    del df_sub['備考']\n",
        "    \n",
        "    print(\"sub preprocessed!\")"
      ]
    },
    {
      "cell_type": "markdown",
      "id": "ac3f98f6",
      "metadata": {
        "id": "ac3f98f6"
      },
      "source": [
        "## 開発環境"
      ]
    },
    {
      "cell_type": "code",
      "execution_count": null,
      "id": "4c9e24a9",
      "metadata": {
        "id": "4c9e24a9"
      },
      "outputs": [],
      "source": [
        "df_env = df.copy()\n",
        "df_env.開発環境"
      ]
    },
    {
      "cell_type": "code",
      "execution_count": null,
      "id": "e670fec2",
      "metadata": {
        "id": "e670fec2"
      },
      "outputs": [],
      "source": [
        "df_env.開発環境 = df_env.開発環境.str.translate(str.maketrans({'\\n':'', ' ':''}))\n",
        "df_env.開発環境.value_counts()\n",
        "# 思いの他取得できていないので、多分スキルの方で抽出した方がいい"
      ]
    },
    {
      "cell_type": "code",
      "execution_count": null,
      "id": "e8113536",
      "metadata": {
        "id": "e8113536"
      },
      "outputs": [],
      "source": [
        "def env_preprocessing(df_env):\n",
        "    del df_env['開発環境']\n",
        "    \n",
        "    print(\"env preprocessed!\")"
      ]
    },
    {
      "cell_type": "markdown",
      "id": "700aa83f",
      "metadata": {
        "id": "700aa83f"
      },
      "source": [
        "## 英語力"
      ]
    },
    {
      "cell_type": "code",
      "execution_count": null,
      "id": "4552fb4c",
      "metadata": {
        "id": "4552fb4c"
      },
      "outputs": [],
      "source": [
        "df_english = df.copy()\n",
        "df_english.英語力"
      ]
    },
    {
      "cell_type": "code",
      "execution_count": null,
      "id": "e79d6c5e",
      "metadata": {
        "id": "e79d6c5e"
      },
      "outputs": [],
      "source": [
        "df_english.英語力 = df_english.英語力.str.translate(str.maketrans({'\\n':'', ' ':''}))\n",
        "df_english.英語力.value_counts()"
      ]
    },
    {
      "cell_type": "code",
      "execution_count": null,
      "id": "491f0fb7",
      "metadata": {
        "id": "491f0fb7"
      },
      "outputs": [],
      "source": [
        "# RLSWのダミー変数を作る\n",
        "\n",
        "# イテレートするためにNaNを取り除かないとならないらしい\n",
        "df_english.英語力 = df_english.英語力.fillna('')\n",
        "\n",
        "for eng in ['Reading', 'Listening', 'Speaking', 'Writing']:\n",
        "    print(eng)\n",
        "    df_english[eng] = df_english.英語力.map(lambda x : 1 if eng in x else 0)\n",
        "    display(df_english[eng].value_counts())\n",
        "    df_english.英語力 = df_english.英語力.str.replace(eng, '')\n",
        "    \n",
        "    \n",
        "del df_english['英語力']"
      ]
    },
    {
      "cell_type": "code",
      "execution_count": null,
      "id": "91a1fc97",
      "metadata": {
        "id": "91a1fc97"
      },
      "outputs": [],
      "source": [
        "def english_preprocessing(df_english):\n",
        "    df_english.英語力 = df_english.英語力.str.translate(str.maketrans({'\\n':'', ' ':''}))\n",
        "    \n",
        "    # イテレートするためにNaNを取り除かないとならないらしい\n",
        "    df_english.英語力 = df_english.英語力.fillna('')\n",
        "\n",
        "    for eng in ['Reading', 'Listening', 'Speaking', 'Writing']:\n",
        "        df_english[eng] = df_english.英語力.map(lambda x : 1 if eng in x else 0)\n",
        "        df_english.英語力 = df_english.英語力.str.replace(eng, '')\n",
        "\n",
        "    del df_english['英語力']\n",
        "    \n",
        "    print(\"english preprocessed!\")\n"
      ]
    },
    {
      "cell_type": "code",
      "execution_count": null,
      "id": "0c7112d9",
      "metadata": {
        "id": "0c7112d9"
      },
      "outputs": [],
      "source": [
        "# テスト\n",
        "df_english = df.copy()\n",
        "english_preprocessing(df_english)\n",
        "df_english"
      ]
    },
    {
      "cell_type": "code",
      "execution_count": null,
      "id": "4130c535",
      "metadata": {
        "id": "4130c535"
      },
      "outputs": [],
      "source": [
        ""
      ]
    }
  ],
  "metadata": {
    "kernelspec": {
      "display_name": "Python 3",
      "language": "python",
      "name": "python3"
    },
    "language_info": {
      "codemirror_mode": {
        "name": "ipython",
        "version": 3
      },
      "file_extension": ".py",
      "mimetype": "text/x-python",
      "name": "python",
      "nbconvert_exporter": "python",
      "pygments_lexer": "ipython3",
      "version": "3.7.4"
    },
    "colab": {
      "name": "エンジニア求人AI(TECH STOCK)_データ前処理.ipynb",
      "provenance": [],
      "include_colab_link": true
    }
  },
  "nbformat": 4,
  "nbformat_minor": 5
}