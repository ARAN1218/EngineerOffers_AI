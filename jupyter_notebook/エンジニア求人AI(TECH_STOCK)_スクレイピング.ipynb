{
  "cells": [
    {
      "cell_type": "markdown",
      "metadata": {
        "id": "view-in-github",
        "colab_type": "text"
      },
      "source": [
        "<a href=\"https://colab.research.google.com/github/ARAN1218/EngineerOffers_AI/blob/main/jupyter_notebook/%E3%82%A8%E3%83%B3%E3%82%B8%E3%83%8B%E3%82%A2%E6%B1%82%E4%BA%BAAI(TECH_STOCK)_%E3%82%B9%E3%82%AF%E3%83%AC%E3%82%A4%E3%83%94%E3%83%B3%E3%82%B0.ipynb\" target=\"_parent\"><img src=\"https://colab.research.google.com/assets/colab-badge.svg\" alt=\"Open In Colab\"/></a>"
      ]
    },
    {
      "cell_type": "code",
      "execution_count": null,
      "id": "5e397199",
      "metadata": {
        "id": "5e397199"
      },
      "outputs": [],
      "source": [
        "from bs4 import BeautifulSoup\n",
        "import requests\n",
        "from time import sleep\n",
        "from pprint import pprint\n",
        "import numpy as np\n",
        "import pandas as pd\n",
        "from tqdm.notebook import tqdm\n",
        "import random\n",
        "\n",
        "pd.set_option('display.max_rows', 10)\n",
        "pd.set_option('display.max_columns',None)"
      ]
    },
    {
      "cell_type": "code",
      "execution_count": null,
      "id": "0fd647ca",
      "metadata": {
        "id": "0fd647ca"
      },
      "outputs": [],
      "source": [
        "url = \"https://tech-stock.com/projects/{}/?careerIds=&careerIds=&careerIds=&onlyRecruiting=true\"\n",
        "print(url.format(1))"
      ]
    },
    {
      "cell_type": "code",
      "execution_count": null,
      "id": "7fa1cf90",
      "metadata": {
        "id": "7fa1cf90"
      },
      "outputs": [],
      "source": [
        "pre_results = []"
      ]
    },
    {
      "cell_type": "code",
      "execution_count": null,
      "id": "95c16e8c",
      "metadata": {
        "scrolled": true,
        "id": "95c16e8c"
      },
      "outputs": [],
      "source": [
        "#Engineer_Agent_Scraping\n",
        "def EAS(url, pre_results=[]):\n",
        "\n",
        "    e_list = pre_results\n",
        "\n",
        "    if (len(e_list) > 0):\n",
        "        progress = list(pd.DataFrame(e_list)['ページ'])\n",
        "    else:\n",
        "        progress = []\n",
        "\n",
        "    #403 forbiddenのエラーを回避するために、requestsメソッドのヘッダーにユーザーエージェントの設定をする\n",
        "    #利用規約でスクレイピング禁止を明言していないくせに...!\n",
        "    headers = {\n",
        "        \"User-Agent\":\"Mozilla/5.0 (Macintosh; Intel Mac OS X 10_15_6) AppleWebKit/605.1.15 (KHTML, like Gecko) Version/14.0.3 Safari/605.1.15\"\n",
        "    }\n",
        "\n",
        "    target_url = url.format(1)\n",
        "    r = requests.get(target_url, headers = headers)\n",
        "    sleep(random.randint(1,3))\n",
        "    soup = BeautifulSoup(r.content, 'html.parser')\n",
        "    end = soup.find('span', class_='project-list-header__num').text\n",
        "    print(\"Scraping Start!\")\n",
        "\n",
        "    for page in tqdm(range(1, (int(end)//20+1)+1)):\n",
        "        try:\n",
        "\n",
        "            target_url = url.format(page)\n",
        "            r = requests.get(target_url, headers = headers)\n",
        "            sleep(random.randint(1,3))\n",
        "            soup = BeautifulSoup(r.content, 'html.parser')\n",
        "            contents = soup.find_all('a', class_='project-article-card__title')\n",
        "\n",
        "            for page_num, content in enumerate(tqdm(contents)):\n",
        "                if (int(str(page)+'{0:02d}'.format(page_num+1)) in progress):\n",
        "                    continue\n",
        "\n",
        "                #カラムは後から追加できるので、今はページのみ宣言\n",
        "                e = {\n",
        "                    \"ページ\":int(str(page)+'{0:02d}'.format(page_num+1))\n",
        "                }\n",
        "                \n",
        "                print(\"page{}:\".format(e[\"ページ\"]),target_url)\n",
        "\n",
        "                rc = requests.get(content.get('href'), headers = headers)\n",
        "                sleep(random.randint(1,3))\n",
        "                soupc = BeautifulSoup(rc.content, 'html.parser')\n",
        "\n",
        "                e[\"タイトル\"] = soupc.find('div', class_='project-article-card__title').text\n",
        "\n",
        "                cont_names = soupc.find_all('div', class_='project-article-card__item-name')\n",
        "                cont_values = soupc.find_all('div', class_='project-article-card__item-value')\n",
        "\n",
        "                #スクレイピングした情報を格納(格納されなかったカラムはNaNになる)\n",
        "                for cont_num, cont_name in enumerate(cont_names):\n",
        "                    e[cont_name.text] = cont_values[cont_num].text\n",
        "\n",
        "                e_list.append(e)\n",
        "\n",
        "        except IndexError:\n",
        "            continue\n",
        "        except:\n",
        "            pre_results = e_list\n",
        "            return e_list\n",
        "    \n",
        "    pre_results = e_list\n",
        "    return e_list\n"
      ]
    },
    {
      "cell_type": "code",
      "execution_count": null,
      "id": "46b2ae6e",
      "metadata": {
        "scrolled": true,
        "id": "46b2ae6e"
      },
      "outputs": [],
      "source": [
        "t_list = EAS(url, pre_results)\n",
        "pd.DataFrame(t_list).head(10)"
      ]
    },
    {
      "cell_type": "code",
      "execution_count": null,
      "id": "2bede46f",
      "metadata": {
        "scrolled": true,
        "id": "2bede46f"
      },
      "outputs": [],
      "source": [
        "test = pd.DataFrame(t_list)\n",
        "pd.set_option('display.max_rows', None)\n",
        "test"
      ]
    },
    {
      "cell_type": "code",
      "execution_count": null,
      "id": "c165eb71",
      "metadata": {
        "id": "c165eb71"
      },
      "outputs": [],
      "source": [
        "print(len(test))\n",
        "print(test['ページ'].nunique())\n",
        "pprint(sorted(test['ページ'].unique()))\n",
        "#どうやら矛盾はないらしい"
      ]
    },
    {
      "cell_type": "code",
      "execution_count": null,
      "id": "7ccec53b",
      "metadata": {
        "id": "7ccec53b"
      },
      "outputs": [],
      "source": [
        "#test.to_pickle('Engineer_Agent_Bigdata.pickle')"
      ]
    },
    {
      "cell_type": "code",
      "execution_count": null,
      "id": "3f2d7e30",
      "metadata": {
        "id": "3f2d7e30"
      },
      "outputs": [],
      "source": [
        "t = pd.read_pickle('Engineer_Agent_Bigdata.pickle')\n",
        "print(len(t))\n",
        "t.head(10)"
      ]
    },
    {
      "cell_type": "code",
      "execution_count": null,
      "id": "1876a9b2",
      "metadata": {
        "id": "1876a9b2"
      },
      "outputs": [],
      "source": [
        "e = {\n",
        "        \"タイトル\":title\n",
        "        ,\"月額報酬\":value\n",
        "        ,\"勤務地\":place\n",
        "        ,\"勤務期間\":span\n",
        "        ,\"稼働率\":operate\n",
        "        ,\"業務内容\":services\n",
        "        ,\"スキル\":skill\n",
        "        ,\"業種\":industry\n",
        "        ,\"リモート\":remote\n",
        "        ,\"募集職種\":jobtype\n",
        "        ,\"英語力\":english\n",
        "        ,\"ポジション\":position\n",
        "        ,\"募集人数\":nop\n",
        "        ,\"勤務時間\":workinghours\n",
        "        ,\"服装\":clothing\n",
        "        ,\"契約形態\":status\n",
        "        ,\"備考\":notes\n",
        "    }\n",
        "\n",
        "e[\"タイトル\"] = 1\n",
        "print(e[\"タイトル\"])\n",
        "\n",
        "e = {\n",
        "        \"タイトル\":\"\"\n",
        "        ,\"月額報酬\":\"\"\n",
        "        ,\"勤務地\":\"\"\n",
        "        ,\"勤務期間\":\"\"\n",
        "        ,\"稼働率\":\"\"\n",
        "        ,\"業務内容\":\"\"\n",
        "        ,\"スキル\":\"\"\n",
        "        ,\"業種\":\"\"\n",
        "        ,\"リモート\":\"\"\n",
        "        ,\"募集職種\":\"\"\n",
        "        ,\"英語力\":\"\"\n",
        "        ,\"ポジション\":\"\"\n",
        "        ,\"募集人数\":\"\"\n",
        "        ,\"勤務時間\":\"\"\n",
        "        ,\"服装\":\"\"\n",
        "        ,\"契約形態\":\"\"\n",
        "        ,\"備考\":\"\"\n",
        "    }"
      ]
    },
    {
      "cell_type": "code",
      "execution_count": null,
      "id": "20f86c19",
      "metadata": {
        "id": "20f86c19"
      },
      "outputs": [],
      "source": [
        "#https://tech-stock.com/projects?freeWord=&lowerLimitStockingUnitPrice=&lowerLimitWorkingRate=&upperLimitWorkingRate=&workingPlaceIds=&careerIds=5ff1dfb069ef6c5c28c4c02c&careerIds=&careerIds=&onlyRecruiting=true\n",
        "#https://tech-stock.com/projects?freeWord=&lowerLimitStockingUnitPrice=&lowerLimitWorkingRate=&upperLimitWorkingRate=&workingPlaceIds=&careerIds=5ff1dfb069ef6c5c28c4c02b&careerIds=&careerIds=&onlyRecruiting=true\n",
        "#https://tech-stock.com/projects?freeWord=&lowerLimitStockingUnitPrice=&lowerLimitWorkingRate=&upperLimitWorkingRate=&workingPlaceIds=&careerIds=5ff1dfb069ef6c5c28c4c02b,5ff1dfb069ef6c5c28c4c02c&careerIds=&careerIds=&onlyRecruiting=true\n",
        "\n",
        "#https://tech-stock.com/projects?freeWord=&lowerLimitStockingUnitPrice=&lowerLimitWorkingRate=&upperLimitWorkingRate=&workingPlaceIds=&careerIds=5ff1dfb069ef6c5c28c4c02{}&careerIds=&careerIds=&onlyRecruiting=true\n",
        "a = 1\n",
        "b = 2\n",
        "int(str(a)+'{0:02d}'.format(b))"
      ]
    },
    {
      "cell_type": "code",
      "execution_count": null,
      "id": "6f9b4645",
      "metadata": {
        "id": "6f9b4645"
      },
      "outputs": [],
      "source": [
        "import random\n",
        "random.randint(1,3)"
      ]
    }
  ],
  "metadata": {
    "kernelspec": {
      "display_name": "Python 3",
      "language": "python",
      "name": "python3"
    },
    "language_info": {
      "codemirror_mode": {
        "name": "ipython",
        "version": 3
      },
      "file_extension": ".py",
      "mimetype": "text/x-python",
      "name": "python",
      "nbconvert_exporter": "python",
      "pygments_lexer": "ipython3",
      "version": "3.7.4"
    },
    "colab": {
      "name": "エンジニア求人AI(TECH STOCK)_スクレイピング.ipynb",
      "provenance": [],
      "include_colab_link": true
    }
  },
  "nbformat": 4,
  "nbformat_minor": 5
}